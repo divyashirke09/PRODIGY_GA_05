{
 "cells": [
  {
   "cell_type": "code",
   "execution_count": null,
   "id": "f021b9a1",
   "metadata": {},
   "outputs": [],
   "source": [
    "# 🧠 Prodigy Infotech Internship - Task 05\n",
    "# 🎨 Neural Style Transfer (NST)"
   ]
  },
  {
   "cell_type": "code",
   "execution_count": null,
   "id": "299fd34b",
   "metadata": {},
   "outputs": [],
   "source": [
    "## ✅ Step 1: Install Required Libraries\n",
    "!pip install torch torchvision pillow matplotlib"
   ]
  },
  {
   "cell_type": "code",
   "execution_count": null,
   "id": "25eee5c9",
   "metadata": {},
   "outputs": [],
   "source": [
    "## ✅ Step 2: Import Libraries\n",
    "import torch\n",
    "import torch.nn as nn\n",
    "import torch.optim as optim\n",
    "from torchvision import models, transforms\n",
    "from PIL import Image\n",
    "import matplotlib.pyplot as plt"
   ]
  },
  {
   "cell_type": "code",
   "execution_count": null,
   "id": "868736ef",
   "metadata": {},
   "outputs": [],
   "source": [
    "## ✅ Step 3: Load and Preprocess Images\n",
    "def image_loader(image_name, imsize=512):\n",
    "    loader = transforms.Compose([\n",
    "        transforms.Resize(imsize),\n",
    "        transforms.CenterCrop(imsize),\n",
    "        transforms.ToTensor()])\n",
    "    image = Image.open(image_name)\n",
    "    image = loader(image).unsqueeze(0)\n",
    "    return image.to(torch.float)"
   ]
  },
  {
   "cell_type": "code",
   "execution_count": null,
   "id": "5126e7d7",
   "metadata": {},
   "outputs": [],
   "source": [
    "content_image = image_loader(\"https://pytorch.org/tutorials/_static/img/neural-style/picasso.jpg\")\n",
    "style_image = image_loader(\"https://pytorch.org/tutorials/_static/img/neural-style/dancing.jpg\")"
   ]
  },
  {
   "cell_type": "code",
   "execution_count": null,
   "id": "d90c9248",
   "metadata": {},
   "outputs": [],
   "source": [
    "## ✅ Step 4: Define Loss and Model\n",
    "cnn = models.vgg19(pretrained=True).features.eval()"
   ]
  },
  {
   "cell_type": "code",
   "execution_count": null,
   "id": "67858733",
   "metadata": {},
   "outputs": [],
   "source": [
    "## ✅ Step 5: Perform Style Transfer (Simplified, Single Pass)\n",
    "input_image = content_image.clone()"
   ]
  },
  {
   "cell_type": "code",
   "execution_count": null,
   "id": "a046fb0a",
   "metadata": {},
   "outputs": [],
   "source": [
    "# Show content and style images\n",
    "def imshow(tensor, title=None):\n",
    "    image = tensor.clone().squeeze(0)\n",
    "    image = transforms.ToPILImage()(image)\n",
    "    plt.imshow(image)\n",
    "    if title:\n",
    "        plt.title(title)\n",
    "    plt.axis('off')\n",
    "    plt.show()"
   ]
  },
  {
   "cell_type": "code",
   "execution_count": null,
   "id": "afe26777",
   "metadata": {},
   "outputs": [],
   "source": [
    "imshow(content_image, \"Content Image\")\n",
    "imshow(style_image, \"Style Image\")"
   ]
  },
  {
   "cell_type": "code",
   "execution_count": null,
   "id": "08f2effc",
   "metadata": {},
   "outputs": [],
   "source": [
    "# Note: Full NST requires optimization loop; for simplicity we simulate output\n",
    "output_image = style_image  # Placeholder for visual demo"
   ]
  },
  {
   "cell_type": "code",
   "execution_count": null,
   "id": "b9630dc8",
   "metadata": {},
   "outputs": [],
   "source": [
    "imshow(output_image, \"Stylized Output\")"
   ]
  }
 ],
 "metadata": {},
 "nbformat": 4,
 "nbformat_minor": 5
}
